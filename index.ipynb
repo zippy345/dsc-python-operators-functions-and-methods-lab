{
 "cells": [
  {
   "cell_type": "markdown",
   "metadata": {},
   "source": [
    "# Built-in Python Operators, Functions, and Methods - Lab\n",
    "\n",
    "## Introduction\n",
    "We've looked at some of the built-in methods, functions, and the operators in Python. These are all very powerful tools we can (and will) use in our code. Below, we'll put these new tools to use to solve the tests in this lab.\n",
    "\n",
    "## Objectives\n",
    "\n",
    "In this lab you will:\n",
    "\n",
    "* Use built-in Python functions and methods\n",
    "* Use comparison operators to compare objects\n",
    "* Use logical operators to incorporate multiple conditions\n",
    "* Use identity operators to confirm the identity of an object\n",
    "\n",
    "\n",
    "## Instructions\n",
    "\n",
    "Let's start by using some built-in functions and methods. Employ the appropriate functions and methods to get the intended result."
   ]
  },
  {
   "cell_type": "code",
   "execution_count": 1,
   "metadata": {},
   "outputs": [
    {
     "data": {
      "text/plain": [
       "'HELLO, THERE'"
      ]
     },
     "execution_count": 1,
     "metadata": {},
     "output_type": "execute_result"
    }
   ],
   "source": [
    "# Desired output: \"HELLO, THERE\"\n",
    "yell_hello = \"hello, there\".upper() \n",
    "yell_hello"
   ]
  },
  {
   "cell_type": "code",
   "execution_count": 2,
   "metadata": {},
   "outputs": [
    {
     "data": {
      "text/plain": [
       "'psst, hey'"
      ]
     },
     "execution_count": 2,
     "metadata": {},
     "output_type": "execute_result"
    }
   ],
   "source": [
    "# Desired output: \"psst, hey\"\n",
    "whisper_hey = \"PSST, HEY\".lower() \n",
    "whisper_hey"
   ]
  },
  {
   "cell_type": "code",
   "execution_count": 3,
   "metadata": {},
   "outputs": [
    {
     "data": {
      "text/plain": [
       "'Learn. Love. Code.'"
      ]
     },
     "execution_count": 3,
     "metadata": {},
     "output_type": "execute_result"
    }
   ],
   "source": [
    "# Desired output: \"Learn. Love. Code\"\n",
    "flatiron_mantra = \"LEARN. LOVE. CODE.\".title() \n",
    "flatiron_mantra"
   ]
  },
  {
   "cell_type": "code",
   "execution_count": 21,
   "metadata": {},
   "outputs": [
    {
     "data": {
      "text/plain": [
       "str"
      ]
     },
     "execution_count": 21,
     "metadata": {},
     "output_type": "execute_result"
    }
   ],
   "source": [
    "# Desired output: str\n",
    "type_string = type(\"i'm a string\") \n",
    "type_string"
   ]
  },
  {
   "cell_type": "code",
   "execution_count": 22,
   "metadata": {},
   "outputs": [
    {
     "data": {
      "text/plain": [
       "list"
      ]
     },
     "execution_count": 22,
     "metadata": {},
     "output_type": "execute_result"
    }
   ],
   "source": [
    "# Desired output: list\n",
    "type_list = type([\"i'm\", \"a\", \"list\"]) \n",
    "type_list"
   ]
  },
  {
   "cell_type": "code",
   "execution_count": 6,
   "metadata": {},
   "outputs": [
    {
     "data": {
      "text/plain": [
       "3"
      ]
     },
     "execution_count": 6,
     "metadata": {},
     "output_type": "execute_result"
    }
   ],
   "source": [
    "# Desired output: 3\n",
    "length_of_list = len([\"i'm\", \"a\", \"list\"] )\n",
    "length_of_list"
   ]
  },
  {
   "cell_type": "code",
   "execution_count": 9,
   "metadata": {},
   "outputs": [
    {
     "data": {
      "text/plain": [
       "'list'"
      ]
     },
     "execution_count": 9,
     "metadata": {},
     "output_type": "execute_result"
    }
   ],
   "source": [
    "# Desired output: \"list\"\n",
    "longest_word_in_list = str(max([\"i'm\", \"a\", \"list\"]))\n",
    "longest_word_in_list"
   ]
  },
  {
   "cell_type": "code",
   "execution_count": 10,
   "metadata": {},
   "outputs": [
    {
     "data": {
      "text/plain": [
       "1"
      ]
     },
     "execution_count": 10,
     "metadata": {},
     "output_type": "execute_result"
    }
   ],
   "source": [
    "# Desired output: 1\n",
    "smallest_number = min([1, 3, 4, 78])\n",
    "smallest_number"
   ]
  },
  {
   "cell_type": "code",
   "execution_count": 8,
   "metadata": {},
   "outputs": [
    {
     "data": {
      "text/plain": [
       "11"
      ]
     },
     "execution_count": 8,
     "metadata": {},
     "output_type": "execute_result"
    }
   ],
   "source": [
    "# Desired output: 11\n",
    "sum_of_numbers =sum( [1, 2, 3, 5])\n",
    "sum_of_numbers"
   ]
  },
  {
   "cell_type": "markdown",
   "metadata": {},
   "source": [
    "Uncomment the code in each cell as you start working on them. For example, when you begin working on the first cell, remove `#` at the start of each line.  \n",
    "\n",
    "> **Note:** The `cmd+?` keyboard shortcut comments or uncomments a given line of code!\n",
    "\n",
    "Replace `[COMPARISON]`, with the correct comparison operator to get the desired output, which you will find as a comment at the end of each line. See the example below.\n",
    "\n",
    "```python\n",
    "# boolean_compare = False [COMPARISON] True # True \n",
    "=> boolean_compare = False != True # True\n",
    "OR\n",
    "=> boolean_compare = False != True\n",
    "```\n",
    "\n",
    "Once uncommented, you can check the output to see if your comparisons match the answers provided in the ending comments."
   ]
  },
  {
   "cell_type": "markdown",
   "metadata": {},
   "source": [
    "> **Remember** the comparison operators are: `==`, `!=`, `<`, `>`, `<=`, `>=`"
   ]
  },
  {
   "cell_type": "code",
   "execution_count": 12,
   "metadata": {},
   "outputs": [
    {
     "name": "stdout",
     "output_type": "stream",
     "text": [
      "False False\n"
     ]
    }
   ],
   "source": [
    "boolean_compare = True != True # False\n",
    "boolean_compare2 = False ==  True # False\n",
    "print(boolean_compare, boolean_compare2)"
   ]
  },
  {
   "cell_type": "code",
   "execution_count": 13,
   "metadata": {},
   "outputs": [
    {
     "name": "stdout",
     "output_type": "stream",
     "text": [
      "True True False\n"
     ]
    }
   ],
   "source": [
    " number_compare = 10 == 10 # True\n",
    " number_compare2 = -20 < 30 # True\n",
    " number_compare3 = 4 > 5 # False\n",
    " print(number_compare, number_compare2, number_compare3)"
   ]
  },
  {
   "cell_type": "code",
   "execution_count": 23,
   "metadata": {},
   "outputs": [
    {
     "name": "stdout",
     "output_type": "stream",
     "text": [
      "True False True\n"
     ]
    }
   ],
   "source": [
    " string_compare = \"stacy\" > \"STACY\" # True\n",
    " string_compare2 = \"hey i love python!\" == \"hi love python\" # False\n",
    " string_compare3 = \"this string is bigger than the other\" != \"that is true\" # True\n",
    " print(string_compare, string_compare2, string_compare3)"
   ]
  },
  {
   "cell_type": "markdown",
   "metadata": {},
   "source": [
    "In the next section, do not use either `==` or `!=` operators"
   ]
  },
  {
   "cell_type": "code",
   "execution_count": 20,
   "metadata": {
    "scrolled": true
   },
   "outputs": [
    {
     "name": "stdout",
     "output_type": "stream",
     "text": [
      "True True False True False\n"
     ]
    }
   ],
   "source": [
    " list_compare = [0, 0, 0, 0] > [0, 0, 0] # True\n",
    " list_compare2 = [1, 0, 0] >= [0, 0, 0] # True\n",
    " list_compare3 = [0, 0, 0] > [0, 0, 3] # False\n",
    " list_compare4 = [0, 0, 3, 0] > [0, 0, 3] # True\n",
    " list_compare5 = [0, 0, 4, 0] <= [0, 0, 3] # False\n",
    " print(list_compare, list_compare2, list_compare3, list_compare4, list_compare5)"
   ]
  },
  {
   "cell_type": "markdown",
   "metadata": {},
   "source": [
    "### Practicing Identity and Logical Operators"
   ]
  },
  {
   "cell_type": "markdown",
   "metadata": {},
   "source": [
    "In this next section, use the identity and logical operators to get the desired output as you did in the examples above using the comparison operators."
   ]
  },
  {
   "cell_type": "markdown",
   "metadata": {},
   "source": [
    "> **Remember** the **logical operators** are `and`, `or`, & `not`; and the **identity operators** are `is` & `is not`"
   ]
  },
  {
   "cell_type": "markdown",
   "metadata": {},
   "source": [
    "Use logical operators for this section"
   ]
  },
  {
   "cell_type": "code",
   "execution_count": 30,
   "metadata": {},
   "outputs": [
    {
     "name": "stdout",
     "output_type": "stream",
     "text": [
      "[] True 0 2 2 False False\n"
     ]
    }
   ],
   "source": [
    " logical_compare = 2 and  []  # []\n",
    " logical_compare2 =  not [] # True\n",
    " logical_compare3 = 0 and [] # 0\n",
    " logical_compare4 = True and 2 # 2\n",
    " logical_compare5 = 2 or 3 # 2\n",
    " logical_compare6 = not True # False\n",
    " logical_compare7 = False and 2 # False\n",
    " print(logical_compare, logical_compare2, logical_compare3, logical_compare4,\n",
    "      logical_compare5, logical_compare6, logical_compare7)"
   ]
  },
  {
   "cell_type": "code",
   "execution_count": null,
   "metadata": {},
   "outputs": [],
   "source": []
  },
  {
   "cell_type": "markdown",
   "metadata": {},
   "source": [
    "Use identity operators for this section"
   ]
  },
  {
   "cell_type": "code",
   "execution_count": 32,
   "metadata": {},
   "outputs": [
    {
     "name": "stdout",
     "output_type": "stream",
     "text": [
      "False True True True False False\n"
     ]
    },
    {
     "name": "stderr",
     "output_type": "stream",
     "text": [
      "<>:6: SyntaxWarning: \"is not\" with 'int' literal. Did you mean \"!=\"?\n",
      "<>:7: SyntaxWarning: \"is not\" with 'str' literal. Did you mean \"!=\"?\n",
      "<>:6: SyntaxWarning: \"is not\" with 'int' literal. Did you mean \"!=\"?\n",
      "<>:7: SyntaxWarning: \"is not\" with 'str' literal. Did you mean \"!=\"?\n",
      "C:\\Users\\Admin\\AppData\\Local\\Temp\\ipykernel_2416\\3482393213.py:6: SyntaxWarning: \"is not\" with 'int' literal. Did you mean \"!=\"?\n",
      "  identity_compare4 = 9 is not 10 # True\n",
      "C:\\Users\\Admin\\AppData\\Local\\Temp\\ipykernel_2416\\3482393213.py:7: SyntaxWarning: \"is not\" with 'str' literal. Did you mean \"!=\"?\n",
      "  identity_compare5 = \"Same\" is not \"Same\" # False\n"
     ]
    }
   ],
   "source": [
    " a = []\n",
    " b = a\n",
    " identity_compare = {} is  {} # False\n",
    " identity_compare2 = a is b # True\n",
    " identity_compare3 = b is not [] # True\n",
    " identity_compare4 = 9 is not 10 # True\n",
    " identity_compare5 = \"Same\" is not \"Same\" # False\n",
    " identity_compare6 = [1,3,4] is [1,2,3] # False\n",
    " print(identity_compare, identity_compare2, identity_compare3,\n",
    "       identity_compare4, identity_compare5, identity_compare6)"
   ]
  },
  {
   "cell_type": "markdown",
   "metadata": {},
   "source": [
    "## Summary\n",
    "Great work! After all that, there's nothing we can't compare. Well, I guess apples and oranges might still be off the table. We practiced using comparison, logical, and identity operators in Python to compare elements of the same and different datatypes and/or values. Going forward, there will be plenty of instances where we will need to compare elements. So, it is important to have a good understanding of how each of these operators works. Don't worry, as with all concepts in programming, the more we work with something the better we understand it. "
   ]
  }
 ],
 "metadata": {
  "kernelspec": {
   "display_name": "Python [conda env:base] *",
   "language": "python",
   "name": "conda-base-py"
  },
  "language_info": {
   "codemirror_mode": {
    "name": "ipython",
    "version": 3
   },
   "file_extension": ".py",
   "mimetype": "text/x-python",
   "name": "python",
   "nbconvert_exporter": "python",
   "pygments_lexer": "ipython3",
   "version": "3.12.7"
  },
  "toc": {
   "base_numbering": 1,
   "nav_menu": {},
   "number_sections": true,
   "sideBar": true,
   "skip_h1_title": false,
   "title_cell": "Table of Contents",
   "title_sidebar": "Contents",
   "toc_cell": false,
   "toc_position": {},
   "toc_section_display": true,
   "toc_window_display": false
  }
 },
 "nbformat": 4,
 "nbformat_minor": 4
}
